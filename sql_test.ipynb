{
 "cells": [
  {
   "cell_type": "code",
   "execution_count": 6,
   "metadata": {},
   "outputs": [],
   "source": [
    "import pandas as pd\n",
    "import sqlite3 as sl\n"
   ]
  },
  {
   "cell_type": "code",
   "execution_count": 7,
   "metadata": {},
   "outputs": [],
   "source": [
    "# connecting to my local database\n",
    "con = sl.connect(r'C:\\CODE\\learning\\Apex_cluster\\database\\apex.db')"
   ]
  },
  {
   "cell_type": "markdown",
   "metadata": {},
   "source": [
    "creating the table template for apex data"
   ]
  },
  {
   "cell_type": "code",
   "execution_count": 30,
   "metadata": {},
   "outputs": [],
   "source": [
    "df_fin = pd.read_csv('apex_stats_full.csv', index_col=0)\n",
    "df_fin.drop(columns=['Unnamed: 0', 'index'], inplace=True)"
   ]
  },
  {
   "cell_type": "code",
   "execution_count": 10,
   "metadata": {},
   "outputs": [],
   "source": [
    "table_name = 'api_rank_s15'\n",
    "\n",
    "query = f'Create table if not Exists {table_name} (uid, username, level, rankscore, rank, skin, skinrarity, kd, kills, damage, top_3, games_played, date_accessed)'\n",
    "con.execute(query)\n",
    "# df_fin.to_sql(table_name,con,if_exists='replace',index=False)\n",
    "con.commit()\n",
    "con.close()"
   ]
  },
  {
   "cell_type": "code",
   "execution_count": 12,
   "metadata": {},
   "outputs": [
    {
     "name": "stdout",
     "output_type": "stream",
     "text": [
      "             uid                    username  level  rankscore      rank  \\\n",
      "0  1006664755119                     dimaQxt     70       8624  Platinum   \n",
      "1     2551986961                    Kitsurow    457       4200    Silver   \n",
      "2  1006060304384                        Triv     43       6233      Gold   \n",
      "3  1003073916668  just a silly little guy :3    111      13559   Diamond   \n",
      "4  1000374306128                      Koyomi    120       4752    Silver   \n",
      "5  1003663130894                  Boomrazzle    216      10955  Platinum   \n",
      "6     2812426141                  SindEX_Red    174       5108    Silver   \n",
      "7  1009874838732                   Amano_Lei    477       2821    Bronze   \n",
      "8  1007129809307                     さや丸ビ-スト    133      11317  Platinum   \n",
      "\n",
      "                 skin skinrarity      kd    kills     damage  top_3  \\\n",
      "0           Aces High  Legendary      -1   3678.0        NaN  102.0   \n",
      "1        Supermassive  Legendary      -1    121.0        NaN    NaN   \n",
      "2          Blood Moon  Legendary  118.68  17209.0  4276142.0    NaN   \n",
      "3            Solstice       Rare      -1   5906.0   409910.0    2.0   \n",
      "4  Search and Destroy  Legendary      -1   5690.0        NaN    NaN   \n",
      "5          Blood Moon  Legendary      -1  12811.0        NaN    NaN   \n",
      "6           Lifeblood       Epic      -1   2841.0   563880.0    NaN   \n",
      "7    Modern Primitive       Epic      -1      NaN        NaN    NaN   \n",
      "8         Dark Matter  Legendary      -1      NaN        NaN    NaN   \n",
      "\n",
      "   games_played date_accessed  \n",
      "0           NaN    2022-11-07  \n",
      "1           NaN    2022-11-07  \n",
      "2         145.0    2022-11-07  \n",
      "3           NaN    2022-11-07  \n",
      "4           NaN    2022-11-07  \n",
      "5           NaN    2022-11-07  \n",
      "6           NaN    2022-11-07  \n",
      "7           NaN    2022-11-07  \n",
      "8           NaN    2022-11-07  \n"
     ]
    }
   ],
   "source": [
    "con = sl.connect(r'C:\\CODE\\learning\\Apex_cluster\\database\\apex.db')\n",
    "r_df = pd.read_sql(\"select * from api_rank_s15\",con)\n",
    "print(r_df)"
   ]
  }
 ],
 "metadata": {
  "kernelspec": {
   "display_name": "Python 3.9.13 64-bit (microsoft store)",
   "language": "python",
   "name": "python3"
  },
  "language_info": {
   "codemirror_mode": {
    "name": "ipython",
    "version": 3
   },
   "file_extension": ".py",
   "mimetype": "text/x-python",
   "name": "python",
   "nbconvert_exporter": "python",
   "pygments_lexer": "ipython3",
   "version": "3.9.13"
  },
  "orig_nbformat": 4,
  "vscode": {
   "interpreter": {
    "hash": "cae1e5e69bcd812cae81eaff511b1737a3dc7631b4682238d39aa2d86387498f"
   }
  }
 },
 "nbformat": 4,
 "nbformat_minor": 2
}
